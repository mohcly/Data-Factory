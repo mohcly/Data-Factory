{
  "cells": [
    {
      "cell_type": "markdown",
      "metadata": {},
      "source": [
        "# 🏭 Crypto Data-Factory - Google Colab Runner\n",
        "\n",
        "This notebook demonstrates how to run the Data-Factory cryptocurrency data acquisition system directly from GitHub in Google Colab.\n",
        "\n",
        "## 🎯 Features\n",
        "- **Free hosting** on Google Colab\n",
        "- **No server setup** required\n",
        "- **Direct GitHub integration**\n",
        "- **Fresh database creation** on startup\n",
        "- **Multi-API data fetching** with failover\n",
        "- **Real-time monitoring** and logging\n",
        "\n",
        "## 📋 Table of Contents\n",
        "1. [Environment Setup](#setup-environment)\n",
        "2. [Install Dependencies](#install-dependencies)\n",
        "3. [Database Setup](#setup-database)\n",
        "4. [Main Application](#main-application)\n",
        "5. [DatabaseManager Class](#database-manager)\n",
        "6. [CryptoDataFetcher Class](#crypto-data-fetcher)\n",
        "7. [Run Data Collection](#run-bot)\n",
        "8. [Continuous Operation](#continuous-mode)\n",
        "9. [Database Analysis](#database-query)\n"
      ]
    }
  ],
  "metadata": {
    "language_info": {
      "name": "python"
    }
  },
  "nbformat": 4,
  "nbformat_minor": 2
}
